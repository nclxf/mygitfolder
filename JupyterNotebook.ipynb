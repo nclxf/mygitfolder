{
 "cells": [
  {
   "attachments": {},
   "cell_type": "markdown",
   "metadata": {},
   "source": [
    "python_matrix operations in JupyterNotebook"
   ]
  },
  {
   "cell_type": "code",
   "execution_count": 9,
   "metadata": {},
   "outputs": [
    {
     "name": "stdout",
     "output_type": "stream",
     "text": [
      "Collecting numpy\n",
      "  Downloading numpy-1.25.0-cp311-cp311-win_amd64.whl (15.0 MB)\n",
      "                                              0.0/15.0 MB ? eta -:--:--\n",
      "                                              0.0/15.0 MB 1.3 MB/s eta 0:00:12\n",
      "                                              0.1/15.0 MB 1.7 MB/s eta 0:00:10\n",
      "                                              0.2/15.0 MB 2.1 MB/s eta 0:00:08\n",
      "     -                                        0.5/15.0 MB 3.2 MB/s eta 0:00:05\n",
      "     -                                        0.6/15.0 MB 3.4 MB/s eta 0:00:05\n",
      "     --                                       1.0/15.0 MB 4.8 MB/s eta 0:00:03\n",
      "     ---                                      1.2/15.0 MB 5.0 MB/s eta 0:00:03\n",
      "     ----                                     1.7/15.0 MB 6.2 MB/s eta 0:00:03\n",
      "     -----                                    2.3/15.0 MB 7.2 MB/s eta 0:00:02\n",
      "     ------                                   2.4/15.0 MB 7.4 MB/s eta 0:00:02\n",
      "     -------                                  2.7/15.0 MB 6.9 MB/s eta 0:00:02\n",
      "     --------                                 3.3/15.0 MB 7.8 MB/s eta 0:00:02\n",
      "     ----------                               3.9/15.0 MB 8.6 MB/s eta 0:00:02\n",
      "     -----------                              4.4/15.0 MB 8.8 MB/s eta 0:00:02\n",
      "     -------------                            5.0/15.0 MB 9.4 MB/s eta 0:00:02\n",
      "     --------------                           5.6/15.0 MB 9.9 MB/s eta 0:00:01\n",
      "     ----------------                         6.1/15.0 MB 10.1 MB/s eta 0:00:01\n",
      "     -----------------                        6.6/15.0 MB 10.3 MB/s eta 0:00:01\n",
      "     ------------------                       6.9/15.0 MB 10.2 MB/s eta 0:00:01\n",
      "     -------------------                      7.4/15.0 MB 10.6 MB/s eta 0:00:01\n",
      "     ---------------------                    8.0/15.0 MB 10.9 MB/s eta 0:00:01\n",
      "     -----------------------                  8.7/15.0 MB 11.1 MB/s eta 0:00:01\n",
      "     -----------------------                  8.9/15.0 MB 11.2 MB/s eta 0:00:01\n",
      "     ------------------------                 9.1/15.0 MB 10.8 MB/s eta 0:00:01\n",
      "     -------------------------                9.7/15.0 MB 10.8 MB/s eta 0:00:01\n",
      "     --------------------------              10.2/15.0 MB 11.1 MB/s eta 0:00:01\n",
      "     ----------------------------            10.8/15.0 MB 13.1 MB/s eta 0:00:01\n",
      "     ----------------------------            11.0/15.0 MB 13.4 MB/s eta 0:00:01\n",
      "     -----------------------------           11.4/15.0 MB 13.1 MB/s eta 0:00:01\n",
      "     ------------------------------          11.6/15.0 MB 12.8 MB/s eta 0:00:01\n",
      "     ------------------------------          11.6/15.0 MB 12.8 MB/s eta 0:00:01\n",
      "     ------------------------------          11.6/15.0 MB 12.8 MB/s eta 0:00:01\n",
      "     ------------------------------          11.6/15.0 MB 12.8 MB/s eta 0:00:01\n",
      "     ------------------------------          11.6/15.0 MB 12.8 MB/s eta 0:00:01\n",
      "     ------------------------------          11.6/15.0 MB 12.8 MB/s eta 0:00:01\n",
      "     ------------------------------          11.6/15.0 MB 12.8 MB/s eta 0:00:01\n",
      "     ------------------------------          11.6/15.0 MB 12.8 MB/s eta 0:00:01\n",
      "     ------------------------------          11.6/15.0 MB 12.8 MB/s eta 0:00:01\n",
      "     ------------------------------          11.6/15.0 MB 12.8 MB/s eta 0:00:01\n",
      "     ------------------------------           11.6/15.0 MB 9.0 MB/s eta 0:00:01\n",
      "     ------------------------------           11.6/15.0 MB 9.0 MB/s eta 0:00:01\n",
      "     ------------------------------           11.6/15.0 MB 8.4 MB/s eta 0:00:01\n",
      "     ------------------------------           11.6/15.0 MB 8.1 MB/s eta 0:00:01\n",
      "     ------------------------------           11.6/15.0 MB 7.9 MB/s eta 0:00:01\n",
      "     -------------------------------          11.7/15.0 MB 7.9 MB/s eta 0:00:01\n",
      "     -------------------------------          11.8/15.0 MB 7.6 MB/s eta 0:00:01\n",
      "     -------------------------------          12.0/15.0 MB 7.4 MB/s eta 0:00:01\n",
      "     --------------------------------         12.1/15.0 MB 7.3 MB/s eta 0:00:01\n",
      "     ---------------------------------        12.4/15.0 MB 7.2 MB/s eta 0:00:01\n",
      "     ---------------------------------        12.6/15.0 MB 7.0 MB/s eta 0:00:01\n",
      "     ----------------------------------       13.0/15.0 MB 7.2 MB/s eta 0:00:01\n",
      "     ------------------------------------     13.6/15.0 MB 7.2 MB/s eta 0:00:01\n",
      "     -------------------------------------    13.9/15.0 MB 7.2 MB/s eta 0:00:01\n",
      "     -------------------------------------    14.2/15.0 MB 7.2 MB/s eta 0:00:01\n",
      "     --------------------------------------   14.5/15.0 MB 7.0 MB/s eta 0:00:01\n",
      "     ---------------------------------------  15.0/15.0 MB 7.0 MB/s eta 0:00:01\n",
      "     ---------------------------------------- 15.0/15.0 MB 6.7 MB/s eta 0:00:00\n",
      "Installing collected packages: numpy\n",
      "Successfully installed numpy-1.25.0\n"
     ]
    }
   ],
   "source": [
    "#Install a pippackage in the current Jupyter\n",
    "import sys\n",
    "!{sys.executable} -m pip install numpy"
   ]
  },
  {
   "attachments": {},
   "cell_type": "markdown",
   "metadata": {},
   "source": [
    "#使用shape获取矩阵大小,a.T得到转置"
   ]
  },
  {
   "cell_type": "code",
   "execution_count": 5,
   "metadata": {},
   "outputs": [
    {
     "name": "stdout",
     "output_type": "stream",
     "text": [
      "[[1 2 3]\n",
      " [4 5 6]]\n",
      "(2, 3)\n",
      "[[1 4]\n",
      " [2 5]\n",
      " [3 6]]\n"
     ]
    }
   ],
   "source": [
    "import numpy as np\n",
    "a=np.mat([[1,2,3],[4,5,6]])\n",
    "print(a)\n",
    "print(a.shape)\n",
    "print(a.T)"
   ]
  },
  {
   "attachments": {},
   "cell_type": "markdown",
   "metadata": {},
   "source": [
    "#矩阵乘法运算"
   ]
  },
  {
   "cell_type": "code",
   "execution_count": 2,
   "metadata": {},
   "outputs": [
    {
     "name": "stdout",
     "output_type": "stream",
     "text": [
      "[[14 32]\n",
      " [32 77]]\n",
      "[[17 22 27]\n",
      " [22 29 36]\n",
      " [27 36 45]]\n"
     ]
    }
   ],
   "source": [
    "import numpy as np\n",
    "A=np.array([[1,2,3],[4,5,6]])\n",
    "B=np.array([[1,4],[2,5],[3,6]])\n",
    "outcome_1=np.dot(A,B)\n",
    "outcome_2=np.dot(B,A)\n",
    "print(outcome_1)\n",
    "\n",
    "print(outcome_2)"
   ]
  },
  {
   "attachments": {},
   "cell_type": "markdown",
   "metadata": {},
   "source": [
    "#矩阵加法运算"
   ]
  },
  {
   "cell_type": "code",
   "execution_count": 7,
   "metadata": {},
   "outputs": [
    {
     "name": "stdout",
     "output_type": "stream",
     "text": [
      "C+D=\n",
      " [[146 379 501]\n",
      " [155 388 621]\n",
      " [941 697 464]]\n"
     ]
    }
   ],
   "source": [
    "C=np.array([[23,34,45],[123,345,567],[65,43,32]])\n",
    "D=np.array([[123,345,456],[32,43,54],[876,654,432]])\n",
    "print(\"C+D=\\n\",C+D)"
   ]
  },
  {
   "attachments": {},
   "cell_type": "markdown",
   "metadata": {},
   "source": [
    "#矩阵求trace"
   ]
  },
  {
   "cell_type": "code",
   "execution_count": 8,
   "metadata": {},
   "outputs": [
    {
     "name": "stdout",
     "output_type": "stream",
     "text": [
      "15\n"
     ]
    }
   ],
   "source": [
    "E=np.array([[1,2,3],[4,5,6],[7,8,9]])\n",
    "print(np.trace(E))"
   ]
  },
  {
   "attachments": {},
   "cell_type": "markdown",
   "metadata": {},
   "source": [
    "#求方阵的行列式det try new features_求逆矩阵"
   ]
  },
  {
   "cell_type": "code",
   "execution_count": 5,
   "metadata": {},
   "outputs": [
    {
     "name": "stdout",
     "output_type": "stream",
     "text": [
      "-2.0\n",
      "[[ 3. -5.]\n",
      " [-1.  2.]]\n"
     ]
    }
   ],
   "source": [
    "F=np.array([[0,1],[2,3]])\n",
    "print(np.linalg.det(F))\n",
    "import numpy as np\n",
    "Arr=np.array([[2,5],[1,3]])\n",
    "Arr_inv=np.linalg.inv(Arr)\n",
    "print(Arr_inv)"
   ]
  },
  {
   "attachments": {},
   "cell_type": "markdown",
   "metadata": {},
   "source": [
    "#求特征值和特征向量"
   ]
  },
  {
   "cell_type": "code",
   "execution_count": 16,
   "metadata": {},
   "outputs": [
    {
     "name": "stdout",
     "output_type": "stream",
     "text": [
      "特征值 [9. 4.]\n",
      "特征向量 [[ 0.70710678 -0.24253563]\n",
      " [ 0.70710678  0.9701425 ]]\n",
      "最大特征值 9.0\n",
      "对应的最大特征向量 [0.70710678 0.70710678]\n"
     ]
    }
   ],
   "source": [
    "arr=np.array([[8,1],[4,5]])\n",
    "w,v=np.linalg.eig(arr)\n",
    "print(\"特征值\",w)\n",
    "print(\"特征向量\",v)\n",
    "print(\"最大特征值\",w[np.argmax(w)])\n",
    "print(\"对应的最大特征向量\",v[:,np.argmax(w)])"
   ]
  },
  {
   "attachments": {},
   "cell_type": "markdown",
   "metadata": {},
   "source": [
    "#try new features 矩阵求逆"
   ]
  },
  {
   "cell_type": "code",
   "execution_count": 3,
   "metadata": {},
   "outputs": [
    {
     "name": "stdout",
     "output_type": "stream",
     "text": [
      "[[ 3. -5.]\n",
      " [-1.  2.]]\n"
     ]
    }
   ],
   "source": [
    "import numpy as np\n",
    "Arr=np.array([[2,5],[1,3]])\n",
    "Arr_inv=np.linalg.inv(Arr)\n",
    "print(Arr_inv)"
   ]
  },
  {
   "attachments": {},
   "cell_type": "markdown",
   "metadata": {},
   "source": []
  }
 ],
 "metadata": {
  "kernelspec": {
   "display_name": "Python 3",
   "language": "python",
   "name": "python3"
  },
  "language_info": {
   "codemirror_mode": {
    "name": "ipython",
    "version": 3
   },
   "file_extension": ".py",
   "mimetype": "text/x-python",
   "name": "python",
   "nbconvert_exporter": "python",
   "pygments_lexer": "ipython3",
   "version": "3.11.4"
  },
  "orig_nbformat": 4
 },
 "nbformat": 4,
 "nbformat_minor": 2
}
